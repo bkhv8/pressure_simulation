{
  "nbformat": 4,
  "nbformat_minor": 0,
  "metadata": {
    "colab": {
      "name": "pressure calculation_simulation",
      "provenance": []
    },
    "kernelspec": {
      "name": "python3",
      "display_name": "Python 3"
    }
  },
  "cells": [
    {
      "cell_type": "markdown",
      "metadata": {
        "id": "5pgxNQVt0x3q"
      },
      "source": [
        "**SOLVING MATRIX OF TYPE AX=B USING PYTHON A is 5/5 matrix of (pi,i)\r\n",
        ": b is 5/1 matrix of di**"
      ]
    },
    {
      "cell_type": "markdown",
      "metadata": {
        "id": "qG-gDAPnvN2Y"
      },
      "source": [
        "**IMPLICIT CASE AFTER 10 DAYS CALCULATION OF MATRIX**"
      ]
    },
    {
      "cell_type": "code",
      "metadata": {
        "colab": {
          "base_uri": "https://localhost:8080/"
        },
        "id": "0s-iQLJhEChb",
        "outputId": "c2b517fc-af41-4030-80bb-103ac87ce0a2"
      },
      "source": [
        "import numpy\r\n",
        "A = [[-0.96821,0.126788,0,0,0],[0.126788,-1.095,0.126788,0,0],[0,0.126788,-1.095,0.126788,0],[0,0,0.126788,-1.095,0.126788],[0,0,0,0.126788,-0.96821]]\r\n",
        "b = [-5048.54,-5098.54,-5048.54,-4898.54,-5048.54]\r\n",
        "x = numpy.linalg.lstsq(A,b,rcond=None) \r\n",
        "x\r\n",
        "## P1=6005.90945659, P2=6045.06416195, P3=5988.95801773, P4=5859.60370424,P5=5981.62323716"
      ],
      "execution_count": 12,
      "outputs": [
        {
          "output_type": "execute_result",
          "data": {
            "text/plain": [
              "(array([6005.90945659, 6045.06416195, 5988.95801773, 5859.60370424,\n",
              "        5981.62323716]),\n",
              " array([], dtype=float64),\n",
              " 5,\n",
              " array([1.30014714, 1.17335874, 1.01663966, 0.88985126, 0.8414232 ]))"
            ]
          },
          "metadata": {
            "tags": []
          },
          "execution_count": 12
        }
      ]
    },
    {
      "cell_type": "markdown",
      "metadata": {
        "id": "VWZpEOotvc-i"
      },
      "source": [
        "**IMPLICIT CASE AFTER 20 DAYS CALCULATION OF MATRIX**"
      ]
    },
    {
      "cell_type": "code",
      "metadata": {
        "id": "B8MRO8NeHJTF",
        "colab": {
          "base_uri": "https://localhost:8080/"
        },
        "outputId": "26299b68-0ecd-4457-b1b7-8b4fb1856e41"
      },
      "source": [
        "import numpy\r\n",
        "A = [[-0.96821,0.126788,0,0,0],[0.126788,-1.095,0.126788,0,0],[0,0.126788,-1.095,0.126788,0],[0,0,0.126788,-1.095,0.126788],[0,0,0,0.126788,-0.96821]]\r\n",
        "b = [-5053.51,-5136.46,-5039.25,-4780.41,-5033.08]\r\n",
        "x = numpy.linalg.lstsq(A,b,rcond=None) \r\n",
        "x\r\n",
        "## P1=6015.4534235 , P2=6078.74687797, P3=5971.23168372, P4=5746.10006082, P5=5950.79221916"
      ],
      "execution_count": 13,
      "outputs": [
        {
          "output_type": "execute_result",
          "data": {
            "text/plain": [
              "(array([6015.4534235 , 6078.74687797, 5971.23168372, 5746.10006082,\n",
              "        5950.79221916]),\n",
              " array([], dtype=float64),\n",
              " 5,\n",
              " array([1.30014714, 1.17335874, 1.01663966, 0.88985126, 0.8414232 ]))"
            ]
          },
          "metadata": {
            "tags": []
          },
          "execution_count": 13
        }
      ]
    },
    {
      "cell_type": "markdown",
      "metadata": {
        "id": "c6_Nz7IIx7nL"
      },
      "source": [
        "**IMPLICIT CASE AFTER 30 DAYS CALCULATION OF MATRIX**\r\n"
      ]
    },
    {
      "cell_type": "code",
      "metadata": {
        "colab": {
          "base_uri": "https://localhost:8080/"
        },
        "id": "ho7Z_LovgpxR",
        "outputId": "ff2abb21-11ad-4b0e-c9d2-f2c2f94532ac"
      },
      "source": [
        "import numpy\r\n",
        "A = [[-0.96821,0.126788,0,0,0],[0.126788,-1.095,0.126788,0,0],[0,0.126788,-1.095,0.126788,0],[0,0,0.126788,-1.095,0.126788],[0,0,0,0.126788,-0.96821]]\r\n",
        "b = [-5061.54,-5164.8,-5024.34,-4684.9,-5007.14]\r\n",
        "x = numpy.linalg.lstsq(A,b,rcond=None) \r\n",
        "x\r\n",
        "## P1=6026.98248841, P2=6103.45391597, P3=5949.56133272, P4=5651.83569602, P5=5911.65650451"
      ],
      "execution_count": 14,
      "outputs": [
        {
          "output_type": "execute_result",
          "data": {
            "text/plain": [
              "(array([6026.98248841, 6103.45391597, 5949.56133272, 5651.83569602,\n",
              "        5911.65650451]),\n",
              " array([], dtype=float64),\n",
              " 5,\n",
              " array([1.30014714, 1.17335874, 1.01663966, 0.88985126, 0.8414232 ]))"
            ]
          },
          "metadata": {
            "tags": []
          },
          "execution_count": 14
        }
      ]
    },
    {
      "cell_type": "markdown",
      "metadata": {
        "id": "iEGqK85ryLBU"
      },
      "source": [
        "**IMPLICIT CASE AFTER 40 DAYS CALCULATION OF MATRIX**"
      ]
    },
    {
      "cell_type": "code",
      "metadata": {
        "colab": {
          "base_uri": "https://localhost:8080/"
        },
        "id": "N-eLMQkThgUi",
        "outputId": "daa5d21f-b9c7-4482-88f8-b4c14baf733e"
      },
      "source": [
        "import numpy\r\n",
        "A = [[-0.96821,0.126788,0,0,0],[0.126788,-1.095,0.126788,0,0],[0,0.126788,-1.095,0.126788,0],[0,0,0.126788,-1.095,0.126788],[0,0,0,0.126788,-0.96821]]\r\n",
        "b = [-5071.25,-5185.59,-5006.1,-4605.59,-4974.21]\r\n",
        "x = numpy.linalg.lstsq(A,b,rcond=None) \r\n",
        "x\r\n",
        "## P1=6039.32201036, P2=6121.09950192, P3=5925.64277023, P4=5571.4805009 , P5=5867.12270039"
      ],
      "execution_count": 15,
      "outputs": [
        {
          "output_type": "execute_result",
          "data": {
            "text/plain": [
              "(array([6039.32201036, 6121.09950192, 5925.64277023, 5571.4805009 ,\n",
              "        5867.12270039]),\n",
              " array([], dtype=float64),\n",
              " 5,\n",
              " array([1.30014714, 1.17335874, 1.01663966, 0.88985126, 0.8414232 ]))"
            ]
          },
          "metadata": {
            "tags": []
          },
          "execution_count": 15
        }
      ]
    },
    {
      "cell_type": "markdown",
      "metadata": {
        "id": "-DNhCTTIyqRZ"
      },
      "source": [
        "**IMPLICIT CASE AFTER 50 DAYS CALCULATION OF MATRIX**"
      ]
    },
    {
      "cell_type": "code",
      "metadata": {
        "colab": {
          "base_uri": "https://localhost:8080/"
        },
        "id": "MtgEbLKJictY",
        "outputId": "1898e002-e417-418f-bcde-5d538e61417b"
      },
      "source": [
        "import numpy\r\n",
        "A = [[-0.96821,0.126788,0,0,0],[0.126788,-1.095,0.126788,0,0],[0,0.126788,-1.095,0.126788,0],[0,0,0.126788,-1.095,0.126788],[0,0,0,0.126788,-0.96821]]\r\n",
        "b = [-5081.63,-5200.44,-4985.98,-4537.98,-4936.74]\r\n",
        "x = numpy.linalg.lstsq(A,b,rcond=None) \r\n",
        "x\r\n",
        "## P1=6051.62463813, P2=6133.17893554, P3=5900.5390873 , P4=5501.28410982, P5=5819.23013573"
      ],
      "execution_count": 16,
      "outputs": [
        {
          "output_type": "execute_result",
          "data": {
            "text/plain": [
              "(array([6051.62463813, 6133.17893554, 5900.5390873 , 5501.28410982,\n",
              "        5819.23013573]),\n",
              " array([], dtype=float64),\n",
              " 5,\n",
              " array([1.30014714, 1.17335874, 1.01663966, 0.88985126, 0.8414232 ]))"
            ]
          },
          "metadata": {
            "tags": []
          },
          "execution_count": 16
        }
      ]
    },
    {
      "cell_type": "markdown",
      "metadata": {
        "id": "ogjTqgWHyzfU"
      },
      "source": [
        "**IMPLICIT CASE AFTER 60 DAYS CALCULATION OF MATRIX**"
      ]
    },
    {
      "cell_type": "code",
      "metadata": {
        "colab": {
          "base_uri": "https://localhost:8080/"
        },
        "id": "Si9Kb0hrnvJz",
        "outputId": "74a7b27a-8fb6-48ab-cc6b-3551527097ce"
      },
      "source": [
        "import numpy\r\n",
        "A = [[-0.96821,0.126788,0,0,0],[0.126788,-1.095,0.126788,0,0],[0,0.126788,-1.095,0.126788,0],[0,0,0.126788,-1.095,0.126788],[0,0,0,0.126788,-0.96821]]\r\n",
        "b = [-5091.98,-5210.6,-4964.85,-4478.91,-4896.44]\r\n",
        "x = numpy.linalg.lstsq(A,b,rcond=None) \r\n",
        "x\r\n",
        "## P1=6063.31759969, P2=6140.83930018, P3=5874.8708227 , P4=5438.59685195, P5=5769.39797943"
      ],
      "execution_count": 17,
      "outputs": [
        {
          "output_type": "execute_result",
          "data": {
            "text/plain": [
              "(array([6063.31759969, 6140.83930018, 5874.8708227 , 5438.59685195,\n",
              "        5769.39797943]),\n",
              " array([], dtype=float64),\n",
              " 5,\n",
              " array([1.30014714, 1.17335874, 1.01663966, 0.88985126, 0.8414232 ]))"
            ]
          },
          "metadata": {
            "tags": []
          },
          "execution_count": 17
        }
      ]
    },
    {
      "cell_type": "markdown",
      "metadata": {
        "id": "81Gg3B-AvI1H"
      },
      "source": [
        ""
      ]
    }
  ]
}